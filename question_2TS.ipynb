{
  "nbformat": 4,
  "nbformat_minor": 0,
  "metadata": {
    "colab": {
      "name": "question 2TS",
      "provenance": [],
      "authorship_tag": "ABX9TyNiG05yhYvNAQJhSryhXaQ1",
      "include_colab_link": true
    },
    "kernelspec": {
      "name": "python3",
      "display_name": "Python 3"
    },
    "language_info": {
      "name": "python"
    }
  },
  "cells": [
    {
      "cell_type": "markdown",
      "metadata": {
        "id": "view-in-github",
        "colab_type": "text"
      },
      "source": [
        "<a href=\"https://colab.research.google.com/github/vanaja-vaamshi/TALENTSPRINTQ3/blob/main/question_2TS.ipynb\" target=\"_parent\"><img src=\"https://colab.research.google.com/assets/colab-badge.svg\" alt=\"Open In Colab\"/></a>"
      ]
    },
    {
      "cell_type": "code",
      "metadata": {
        "colab": {
          "base_uri": "https://localhost:8080/"
        },
        "id": "8dSF3iyLitcw",
        "outputId": "93575164-51dd-49fc-9420-736daab794de"
      },
      "source": [
        "\n",
        "\n",
        "\n",
        "def powers(n, power):\n",
        "    \n",
        "    nums_pows = {number: sum(int(digit) ** power for digit in str(number)) for number in range(2, n)}\n",
        "    return (x for x, y in nums_pows.items() if x == y)\n",
        "\n",
        "\n",
        "if __name__ == '__main__':\n",
        "    \n",
        "    print(sum(powers(1000000, 5)))\n",
        "   "
      ],
      "execution_count": null,
      "outputs": [
        {
          "output_type": "stream",
          "name": "stdout",
          "text": [
            "443839\n"
          ]
        }
      ]
    }
  ]
}